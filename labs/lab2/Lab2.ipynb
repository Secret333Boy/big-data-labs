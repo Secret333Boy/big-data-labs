{
 "cells": [
  {
   "cell_type": "code",
   "execution_count": 0,
   "metadata": {
    "application/vnd.databricks.v1+cell": {
     "cellMetadata": {
      "byteLimit": 2048000,
      "rowLimit": 10000
     },
     "inputWidgets": {},
     "nuid": "70c3bda4-b24a-4d1b-a826-bcdbec29ac6f",
     "showTitle": false,
     "tableResultSettingsMap": {},
     "title": ""
    }
   },
   "outputs": [],
   "source": [
    "from pyspark.sql import SparkSession\n",
    "from pyspark.sql.functions import col, udf, lower, regexp_replace, desc, asc\n",
    "from pyspark.sql.types import ArrayType, StringType, StructType, StructField, FloatType\n",
    "from pyspark.ml.feature import Tokenizer, StopWordsRemover, CountVectorizer, IDF\n",
    "from pyspark.ml.linalg import Vectors\n",
    "from pyspark.ml.feature import Normalizer\n",
    "import numpy as np\n",
    "import spacy\n",
    "from scipy.spatial.distance import cosine"
   ]
  },
  {
   "cell_type": "code",
   "execution_count": 0,
   "metadata": {
    "application/vnd.databricks.v1+cell": {
     "cellMetadata": {
      "byteLimit": 2048000,
      "rowLimit": 10000
     },
     "inputWidgets": {},
     "nuid": "a560c49f-7288-4529-9d84-6879c10fb980",
     "showTitle": false,
     "tableResultSettingsMap": {},
     "title": ""
    }
   },
   "outputs": [],
   "source": [
    "spark = SparkSession.builder \\\n",
    "    .appName(\"Text Processing Task\") \\\n",
    "    .getOrCreate()"
   ]
  },
  {
   "cell_type": "code",
   "execution_count": 0,
   "metadata": {
    "application/vnd.databricks.v1+cell": {
     "cellMetadata": {
      "byteLimit": 2048000,
      "rowLimit": 10000
     },
     "inputWidgets": {},
     "nuid": "e1884325-36cd-4ee4-838f-784a90cc84ee",
     "showTitle": false,
     "tableResultSettingsMap": {},
     "title": ""
    }
   },
   "outputs": [
    {
     "name": "stdout",
     "output_type": "stream",
     "text": [
      "+--------------------+--------------------+--------------------+\n",
      "|                  id|               title|                body|\n",
      "+--------------------+--------------------+--------------------+\n",
      "|http://k.img.com....|Кличко покликав н...|\"київ - перспекти...|\n",
      "|http://k.img.com....|З'явилося відео, ...|\"   з'явилося від...|\n",
      "|http://k.img.com....|У центрі Києва по...|у києві на бессар...|\n",
      "|http://k.img.com....|Нічний ураган пер...|київ вночі 16 сер...|\n",
      "|http://k.img.com....|Потоп у Києві: ст...|уночі київ вкотре...|\n",
      "|http://k.img.com....|У Києві потрапив ...|\"колишній народни...|\n",
      "|http://k.img.com....|У Києві пограбува...|\"у києві троє нев...|\n",
      "|http://k.img.com....|У Києві обмежать ...|у києві на вихідн...|\n",
      "|http://k.img.com....|\"У Києві \"\"заміну...|\"на майдані незал...|\n",
      "|http://k.img.com....|У Києві посилять ...|у києві у зв'язку...|\n",
      "|http://k.img.com....|У Києві інспектор...|у вересні набудут...|\n",
      "|http://k.img.com....|Поліція затримала...|\"поліція затримал...|\n",
      "|http://k.img.com....|У Києві продавець...|\"увечері, 20 липн...|\n",
      "|http://k.img.com....|На станції метро ...|\"прес-служба київ...|\n",
      "|http://k.img.com....|Мінкульт показав,...|\"у києві під час ...|\n",
      "|http://k.img.com....|У Києві помітили ...|\"німецького музик...|\n",
      "|http://k.img.com....|Вибух авто в Києв...|\"про це повідомля...|\n",
      "|http://k.img.com....|Марш рівності 201...|\"акція за участю ...|\n",
      "|http://k.img.com....|У Мережі показали...|\"у мережі опублік...|\n",
      "|http://k.img.com....|У Києві на вихідн...|\"у києві дві ночі...|\n",
      "+--------------------+--------------------+--------------------+\n",
      "only showing top 20 rows\n",
      "\n"
     ]
    }
   ],
   "source": [
    "data_path = \"/FileStore/tables/ukr_text.csv\"\n",
    "df = spark.read.csv(data_path, header=True)\n",
    "df = df.select(\"id\", \"title\", \"body\").na.drop()\n",
    "df = df.withColumn(\n",
    "    \"body\",\n",
    "    regexp_replace(lower(col(\"body\")), \"[\\\\n\\\\r\\\\t]+|<[^>]*>\", \"\")\n",
    ")\n",
    "df.show()"
   ]
  },
  {
   "cell_type": "code",
   "execution_count": 0,
   "metadata": {
    "application/vnd.databricks.v1+cell": {
     "cellMetadata": {
      "byteLimit": 2048000,
      "rowLimit": 10000
     },
     "inputWidgets": {},
     "nuid": "f58979cc-c18f-41db-8395-74188775860c",
     "showTitle": false,
     "tableResultSettingsMap": {},
     "title": ""
    }
   },
   "outputs": [
    {
     "name": "stdout",
     "output_type": "stream",
     "text": [
      "Collecting uk-core-news-sm==3.7.0\r\n",
      "  Downloading https://github.com/explosion/spacy-models/releases/download/uk_core_news_sm-3.7.0/uk_core_news_sm-3.7.0-py3-none-any.whl (14.9 MB)\r\n",
      "\u001b[?25l     \u001b[90m━━━━━━━━━━━━━━━━━━━━━━━━━━━━━━━━━━━━━━━━\u001b[0m \u001b[32m0.0/14.9 MB\u001b[0m \u001b[31m?\u001b[0m eta \u001b[36m-:--:--\u001b[0m\r\u001b[2K     \u001b[90m━━━━━━━━━━━━━━━━━━━━━━━━━━━━━━━━━━━━━━━━\u001b[0m \u001b[32m0.1/14.9 MB\u001b[0m \u001b[31m3.5 MB/s\u001b[0m eta \u001b[36m0:00:05\u001b[0m\r\u001b[2K     \u001b[91m━\u001b[0m\u001b[90m╺\u001b[0m\u001b[90m━━━━━━━━━━━━━━━━━━━━━━━━━━━━━━━━━━━━━━\u001b[0m \u001b[32m0.4/14.9 MB\u001b[0m \u001b[31m5.9 MB/s\u001b[0m eta \u001b[36m0:00:03\u001b[0m\r\u001b[2K     \u001b[91m━\u001b[0m\u001b[91m╸\u001b[0m\u001b[90m━━━━━━━━━━━━━━━━━━━━━━━━━━━━━━━━━━━━━━\u001b[0m \u001b[32m0.7/14.9 MB\u001b[0m \u001b[31m6.9 MB/s\u001b[0m eta \u001b[36m0:00:03\u001b[0m\r\u001b[2K     \u001b[91m━━\u001b[0m\u001b[91m╸\u001b[0m\u001b[90m━━━━━━━━━━━━━━━━━━━━━━━━━━━━━━━━━━━━━\u001b[0m \u001b[32m1.1/14.9 MB\u001b[0m \u001b[31m8.1 MB/s\u001b[0m eta \u001b[36m0:00:02\u001b[0m\r\u001b[2K     \u001b[91m━━━━\u001b[0m\u001b[90m╺\u001b[0m\u001b[90m━━━━━━━━━━━━━━━━━━━━━━━━━━━━━━━━━━━\u001b[0m \u001b[32m1.6/14.9 MB\u001b[0m \u001b[31m9.2 MB/s\u001b[0m eta \u001b[36m0:00:02\u001b[0m\r\u001b[2K     \u001b[91m━━━━━\u001b[0m\u001b[90m╺\u001b[0m\u001b[90m━━━━━━━━━━━━━━━━━━━━━━━━━━━━━━━━━━\u001b[0m \u001b[32m2.0/14.9 MB\u001b[0m \u001b[31m9.8 MB/s\u001b[0m eta \u001b[36m0:00:02\u001b[0m\r\u001b[2K     \u001b[91m━━━━━━━\u001b[0m\u001b[90m╺\u001b[0m\u001b[90m━━━━━━━━━━━━━━━━━━━━━━━━━━━━━━━━\u001b[0m \u001b[32m2.7/14.9 MB\u001b[0m \u001b[31m11.3 MB/s\u001b[0m eta \u001b[36m0:00:02\u001b[0m\r\u001b[2K     \u001b[91m━━━━━━━━━\u001b[0m\u001b[91m╸\u001b[0m\u001b[90m━━━━━━━━━━━━━━━━━━━━━━━━━━━━━━\u001b[0m \u001b[32m3.6/14.9 MB\u001b[0m \u001b[31m12.8 MB/s\u001b[0m eta \u001b[36m0:00:01\u001b[0m\r\u001b[2K     \u001b[91m━━━━━━━━━━━━\u001b[0m\u001b[90m╺\u001b[0m\u001b[90m━━━━━━━━━━━━━━━━━━━━━━━━━━━\u001b[0m \u001b[32m4.5/14.9 MB\u001b[0m \u001b[31m14.5 MB/s\u001b[0m eta \u001b[36m0:00:01\u001b[0m\r\u001b[2K     \u001b[91m━━━━━━━━━━━━━━━\u001b[0m\u001b[90m╺\u001b[0m\u001b[90m━━━━━━━━━━━━━━━━━━━━━━━━\u001b[0m \u001b[32m5.7/14.9 MB\u001b[0m \u001b[31m16.4 MB/s\u001b[0m eta \u001b[36m0:00:01\u001b[0m\r\u001b[2K     \u001b[91m━━━━━━━━━━━━━━━━━━━\u001b[0m\u001b[90m╺\u001b[0m\u001b[90m━━━━━━━━━━━━━━━━━━━━\u001b[0m \u001b[32m7.1/14.9 MB\u001b[0m \u001b[31m18.6 MB/s\u001b[0m eta \u001b[36m0:00:01\u001b[0m\r\u001b[2K     \u001b[91m━━━━━━━━━━━━━━━━━━━━━━━\u001b[0m\u001b[91m╸\u001b[0m\u001b[90m━━━━━━━━━━━━━━━━\u001b[0m \u001b[32m8.8/14.9 MB\u001b[0m \u001b[31m21.1 MB/s\u001b[0m eta \u001b[36m0:00:01\u001b[0m\r\u001b[2K     \u001b[91m━━━━━━━━━━━━━━━━━━━━━━━━━━━━\u001b[0m\u001b[91m╸\u001b[0m\u001b[90m━━━━━━━━━━━\u001b[0m \u001b[32m10.8/14.9 MB\u001b[0m \u001b[31m28.0 MB/s\u001b[0m eta \u001b[36m0:00:01\u001b[0m\r\u001b[2K     \u001b[91m━━━━━━━━━━━━━━━━━━━━━━━━━━━━━━━━━━━\u001b[0m\u001b[91m╸\u001b[0m\u001b[90m━━━━\u001b[0m \u001b[32m13.3/14.9 MB\u001b[0m \u001b[31m44.5 MB/s\u001b[0m eta \u001b[36m0:00:01\u001b[0m\r\u001b[2K     \u001b[91m━━━━━━━━━━━━━━━━━━━━━━━━━━━━━━━━━━━━━━━\u001b[0m\u001b[91m╸\u001b[0m \u001b[32m14.9/14.9 MB\u001b[0m \u001b[31m53.4 MB/s\u001b[0m eta \u001b[36m0:00:01\u001b[0m\r\u001b[2K     \u001b[91m━━━━━━━━━━━━━━━━━━━━━━━━━━━━━━━━━━━━━━━\u001b[0m\u001b[91m╸\u001b[0m \u001b[32m14.9/14.9 MB\u001b[0m \u001b[31m53.4 MB/s\u001b[0m eta \u001b[36m0:00:01\u001b[0m\r\u001b[2K     \u001b[91m━━━━━━━━━━━━━━━━━━━━━━━━━━━━━━━━━━━━━━━\u001b[0m\u001b[91m╸\u001b[0m \u001b[32m14.9/14.9 MB\u001b[0m \u001b[31m53.4 MB/s\u001b[0m eta \u001b[36m0:00:01\u001b[0m\r\u001b[2K     \u001b[90m━━━━━━━━━━━━━━━━━━━━━━━━━━━━━━━━━━━━━━━━\u001b[0m \u001b[32m14.9/14.9 MB\u001b[0m \u001b[31m33.8 MB/s\u001b[0m eta \u001b[36m0:00:00\u001b[0m\r\n",
      "\u001b[?25hRequirement already satisfied: spacy<3.8.0,>=3.7.0 in /databricks/python3/lib/python3.11/site-packages (from uk-core-news-sm==3.7.0) (3.7.2)\r\n",
      "Collecting pymorphy3>=1.0.0 (from uk-core-news-sm==3.7.0)\r\n",
      "  Obtaining dependency information for pymorphy3>=1.0.0 from https://files.pythonhosted.org/packages/96/9b/3bb2abf52d890aac2d86198aa5868323f88ac4f29a93443796411401fae5/pymorphy3-2.0.2-py3-none-any.whl.metadata\r\n",
      "  Using cached pymorphy3-2.0.2-py3-none-any.whl.metadata (1.8 kB)\r\n",
      "Collecting pymorphy3-dicts-uk (from uk-core-news-sm==3.7.0)\r\n",
      "  Obtaining dependency information for pymorphy3-dicts-uk from https://files.pythonhosted.org/packages/60/1a/310e767e0dd9ad414c11f9b969735b8e7af90c38b7372ebc3a086f3c1249/pymorphy3_dicts_uk-2.4.1.1.1663094765-py2.py3-none-any.whl.metadata\r\n",
      "  Using cached pymorphy3_dicts_uk-2.4.1.1.1663094765-py2.py3-none-any.whl.metadata (2.0 kB)\r\n",
      "Collecting dawg-python>=0.7.1 (from pymorphy3>=1.0.0->uk-core-news-sm==3.7.0)\r\n",
      "  Obtaining dependency information for dawg-python>=0.7.1 from https://files.pythonhosted.org/packages/6a/84/ff1ce2071d4c650ec85745766c0047ccc3b5036f1d03559fd46bb38b5eeb/DAWG_Python-0.7.2-py2.py3-none-any.whl.metadata\r\n",
      "  Using cached DAWG_Python-0.7.2-py2.py3-none-any.whl.metadata (7.0 kB)\r\n",
      "Collecting pymorphy3-dicts-ru (from pymorphy3>=1.0.0->uk-core-news-sm==3.7.0)\r\n",
      "  Obtaining dependency information for pymorphy3-dicts-ru from https://files.pythonhosted.org/packages/b0/67/469e9e52d046863f5959928794d3067d455a77f580bf4a662630a43eb426/pymorphy3_dicts_ru-2.4.417150.4580142-py2.py3-none-any.whl.metadata\r\n",
      "  Using cached pymorphy3_dicts_ru-2.4.417150.4580142-py2.py3-none-any.whl.metadata (2.0 kB)\r\n",
      "Requirement already satisfied: spacy-legacy<3.1.0,>=3.0.11 in /databricks/python3/lib/python3.11/site-packages (from spacy<3.8.0,>=3.7.0->uk-core-news-sm==3.7.0) (3.0.12)\r\n",
      "Requirement already satisfied: spacy-loggers<2.0.0,>=1.0.0 in /databricks/python3/lib/python3.11/site-packages (from spacy<3.8.0,>=3.7.0->uk-core-news-sm==3.7.0) (1.0.5)\r\n",
      "Requirement already satisfied: murmurhash<1.1.0,>=0.28.0 in /databricks/python3/lib/python3.11/site-packages (from spacy<3.8.0,>=3.7.0->uk-core-news-sm==3.7.0) (1.0.10)\r\n",
      "Requirement already satisfied: cymem<2.1.0,>=2.0.2 in /databricks/python3/lib/python3.11/site-packages (from spacy<3.8.0,>=3.7.0->uk-core-news-sm==3.7.0) (2.0.8)\r\n",
      "Requirement already satisfied: preshed<3.1.0,>=3.0.2 in /databricks/python3/lib/python3.11/site-packages (from spacy<3.8.0,>=3.7.0->uk-core-news-sm==3.7.0) (3.0.9)\r\n",
      "Requirement already satisfied: thinc<8.3.0,>=8.1.8 in /databricks/python3/lib/python3.11/site-packages (from spacy<3.8.0,>=3.7.0->uk-core-news-sm==3.7.0) (8.2.3)\r\n",
      "Requirement already satisfied: wasabi<1.2.0,>=0.9.1 in /databricks/python3/lib/python3.11/site-packages (from spacy<3.8.0,>=3.7.0->uk-core-news-sm==3.7.0) (1.1.2)\r\n",
      "Requirement already satisfied: srsly<3.0.0,>=2.4.3 in /databricks/python3/lib/python3.11/site-packages (from spacy<3.8.0,>=3.7.0->uk-core-news-sm==3.7.0) (2.4.8)\r\n",
      "Requirement already satisfied: catalogue<2.1.0,>=2.0.6 in /databricks/python3/lib/python3.11/site-packages (from spacy<3.8.0,>=3.7.0->uk-core-news-sm==3.7.0) (2.0.10)\r\n",
      "Requirement already satisfied: weasel<0.4.0,>=0.1.0 in /databricks/python3/lib/python3.11/site-packages (from spacy<3.8.0,>=3.7.0->uk-core-news-sm==3.7.0) (0.3.4)\r\n",
      "Requirement already satisfied: typer<0.10.0,>=0.3.0 in /databricks/python3/lib/python3.11/site-packages (from spacy<3.8.0,>=3.7.0->uk-core-news-sm==3.7.0) (0.9.4)\r\n",
      "Requirement already satisfied: smart-open<7.0.0,>=5.2.1 in /databricks/python3/lib/python3.11/site-packages (from spacy<3.8.0,>=3.7.0->uk-core-news-sm==3.7.0) (5.2.1)\r\n",
      "Requirement already satisfied: tqdm<5.0.0,>=4.38.0 in /databricks/python3/lib/python3.11/site-packages (from spacy<3.8.0,>=3.7.0->uk-core-news-sm==3.7.0) (4.65.0)\r\n",
      "Requirement already satisfied: requests<3.0.0,>=2.13.0 in /databricks/python3/lib/python3.11/site-packages (from spacy<3.8.0,>=3.7.0->uk-core-news-sm==3.7.0) (2.31.0)\r\n",
      "Requirement already satisfied: pydantic!=1.8,!=1.8.1,<3.0.0,>=1.7.4 in /databricks/python3/lib/python3.11/site-packages (from spacy<3.8.0,>=3.7.0->uk-core-news-sm==3.7.0) (1.10.6)\r\n",
      "Requirement already satisfied: jinja2 in /databricks/python3/lib/python3.11/site-packages (from spacy<3.8.0,>=3.7.0->uk-core-news-sm==3.7.0) (3.1.2)\r\n",
      "Requirement already satisfied: setuptools in /databricks/python3/lib/python3.11/site-packages (from spacy<3.8.0,>=3.7.0->uk-core-news-sm==3.7.0) (68.0.0)\r\n",
      "Requirement already satisfied: packaging>=20.0 in /databricks/python3/lib/python3.11/site-packages (from spacy<3.8.0,>=3.7.0->uk-core-news-sm==3.7.0) (23.2)\r\n",
      "Requirement already satisfied: langcodes<4.0.0,>=3.2.0 in /databricks/python3/lib/python3.11/site-packages (from spacy<3.8.0,>=3.7.0->uk-core-news-sm==3.7.0) (3.4.0)\r\n",
      "Requirement already satisfied: numpy>=1.19.0 in /databricks/python3/lib/python3.11/site-packages (from spacy<3.8.0,>=3.7.0->uk-core-news-sm==3.7.0) (1.23.5)\r\n",
      "Requirement already satisfied: language-data>=1.2 in /databricks/python3/lib/python3.11/site-packages (from langcodes<4.0.0,>=3.2.0->spacy<3.8.0,>=3.7.0->uk-core-news-sm==3.7.0) (1.2.0)\r\n",
      "Requirement already satisfied: typing-extensions>=4.2.0 in /databricks/python3/lib/python3.11/site-packages (from pydantic!=1.8,!=1.8.1,<3.0.0,>=1.7.4->spacy<3.8.0,>=3.7.0->uk-core-news-sm==3.7.0) (4.10.0)\r\n",
      "Requirement already satisfied: charset-normalizer<4,>=2 in /databricks/python3/lib/python3.11/site-packages (from requests<3.0.0,>=2.13.0->spacy<3.8.0,>=3.7.0->uk-core-news-sm==3.7.0) (2.0.4)\r\n",
      "Requirement already satisfied: idna<4,>=2.5 in /databricks/python3/lib/python3.11/site-packages (from requests<3.0.0,>=2.13.0->spacy<3.8.0,>=3.7.0->uk-core-news-sm==3.7.0) (3.4)\r\n",
      "Requirement already satisfied: urllib3<3,>=1.21.1 in /databricks/python3/lib/python3.11/site-packages (from requests<3.0.0,>=2.13.0->spacy<3.8.0,>=3.7.0->uk-core-news-sm==3.7.0) (1.26.16)\r\n",
      "Requirement already satisfied: certifi>=2017.4.17 in /databricks/python3/lib/python3.11/site-packages (from requests<3.0.0,>=2.13.0->spacy<3.8.0,>=3.7.0->uk-core-news-sm==3.7.0) (2023.7.22)\r\n",
      "Requirement already satisfied: blis<0.8.0,>=0.7.8 in /databricks/python3/lib/python3.11/site-packages (from thinc<8.3.0,>=8.1.8->spacy<3.8.0,>=3.7.0->uk-core-news-sm==3.7.0) (0.7.11)\r\n",
      "Requirement already satisfied: confection<1.0.0,>=0.0.1 in /databricks/python3/lib/python3.11/site-packages (from thinc<8.3.0,>=8.1.8->spacy<3.8.0,>=3.7.0->uk-core-news-sm==3.7.0) (0.1.4)\r\n",
      "Requirement already satisfied: click<9.0.0,>=7.1.1 in /databricks/python3/lib/python3.11/site-packages (from typer<0.10.0,>=0.3.0->spacy<3.8.0,>=3.7.0->uk-core-news-sm==3.7.0) (8.0.4)\r\n",
      "Requirement already satisfied: cloudpathlib<0.17.0,>=0.7.0 in /databricks/python3/lib/python3.11/site-packages (from weasel<0.4.0,>=0.1.0->spacy<3.8.0,>=3.7.0->uk-core-news-sm==3.7.0) (0.16.0)\r\n",
      "Requirement already satisfied: MarkupSafe>=2.0 in /databricks/python3/lib/python3.11/site-packages (from jinja2->spacy<3.8.0,>=3.7.0->uk-core-news-sm==3.7.0) (2.1.1)\r\n",
      "Requirement already satisfied: marisa-trie>=0.7.7 in /databricks/python3/lib/python3.11/site-packages (from language-data>=1.2->langcodes<4.0.0,>=3.2.0->spacy<3.8.0,>=3.7.0->uk-core-news-sm==3.7.0) (1.1.1)\r\n",
      "Using cached pymorphy3-2.0.2-py3-none-any.whl (53 kB)\r\n",
      "Using cached pymorphy3_dicts_uk-2.4.1.1.1663094765-py2.py3-none-any.whl (8.2 MB)\r\n",
      "Using cached DAWG_Python-0.7.2-py2.py3-none-any.whl (11 kB)\r\n",
      "Using cached pymorphy3_dicts_ru-2.4.417150.4580142-py2.py3-none-any.whl (8.4 MB)\r\n",
      "Installing collected packages: pymorphy3-dicts-uk, pymorphy3-dicts-ru, dawg-python, pymorphy3, uk-core-news-sm\r\n",
      "Successfully installed dawg-python-0.7.2 pymorphy3-2.0.2 pymorphy3-dicts-ru-2.4.417150.4580142 pymorphy3-dicts-uk-2.4.1.1.1663094765 uk-core-news-sm-3.7.0\r\n",
      "\r\n",
      "\u001b[1m[\u001b[0m\u001b[34;49mnotice\u001b[0m\u001b[1;39;49m]\u001b[0m\u001b[39;49m A new release of pip is available: \u001b[0m\u001b[31;49m23.2.1\u001b[0m\u001b[39;49m -> \u001b[0m\u001b[32;49m24.3.1\u001b[0m\r\n",
      "\u001b[1m[\u001b[0m\u001b[34;49mnotice\u001b[0m\u001b[1;39;49m]\u001b[0m\u001b[39;49m To update, run: \u001b[0m\u001b[32;49mpip install --upgrade pip\u001b[0m\r\n",
      "\u001b[38;5;2m✔ Download and installation successful\u001b[0m\r\n",
      "You can now load the package via spacy.load('uk_core_news_sm')\r\n"
     ]
    }
   ],
   "source": [
    "!python -m spacy download uk_core_news_sm"
   ]
  },
  {
   "cell_type": "code",
   "execution_count": 0,
   "metadata": {
    "application/vnd.databricks.v1+cell": {
     "cellMetadata": {
      "byteLimit": 2048000,
      "rowLimit": 10000
     },
     "inputWidgets": {},
     "nuid": "724de148-62cf-4394-918c-1bbbf7dac100",
     "showTitle": false,
     "tableResultSettingsMap": {},
     "title": ""
    }
   },
   "outputs": [
    {
     "name": "stdout",
     "output_type": "stream",
     "text": [
      "+--------------------+--------------------+--------------------+--------------------+--------------------+--------------------+\n",
      "|                  id|               title|                body|              tokens|     filtered_tokens|          lemmatized|\n",
      "+--------------------+--------------------+--------------------+--------------------+--------------------+--------------------+\n",
      "|http://k.img.com....|Кличко покликав н...|\"київ - перспекти...|[\"київ, -, перспе...|[\"київ, -, перспе...|[\", київ, -, перс...|\n",
      "|http://k.img.com....|З'явилося відео, ...|\"   з'явилося від...|[\" , , з'явилося,...|[\", з'явилося, ві...|[\", з'явитися, ві...|\n",
      "|http://k.img.com....|У центрі Києва по...|у києві на бессар...|[у, києві, на, бе...|[у, києві, на, бе...|[у, кий, на, бесс...|\n",
      "|http://k.img.com....|Нічний ураган пер...|київ вночі 16 сер...|[київ, вночі, 16,...|[київ, вночі, 16,...|[київ, вночі, 16,...|\n",
      "|http://k.img.com....|Потоп у Києві: ст...|уночі київ вкотре...|[уночі, київ, вко...|[уночі, київ, вко...|[уночі, київ, вко...|\n",
      "|http://k.img.com....|У Києві потрапив ...|\"колишній народни...|[\"колишній, народ...|[\"колишній, народ...|[\", колишній, нар...|\n",
      "|http://k.img.com....|У Києві пограбува...|\"у києві троє нев...|[\"у, києві, троє,...|[\"у, києві, троє,...|[\", у, кий, троє,...|\n",
      "|http://k.img.com....|У Києві обмежать ...|у києві на вихідн...|[у, києві, на, ви...|[у, києві, на, ви...|[у, кий, на, вихі...|\n",
      "|http://k.img.com....|\"У Києві \"\"заміну...|\"на майдані незал...|[\"на, майдані, не...|[\"на, майдані, не...|[\", на, майдан, н...|\n",
      "|http://k.img.com....|У Києві посилять ...|у києві у зв'язку...|[у, києві, у, зв'...|[у, києві, у, зв'...|[у, кий, у, зв'яз...|\n",
      "|http://k.img.com....|У Києві інспектор...|у вересні набудут...|[у, вересні, набу...|[у, вересні, набу...|[у, вересень, наб...|\n",
      "|http://k.img.com....|Поліція затримала...|\"поліція затримал...|[\"поліція, затрим...|[\"поліція, затрим...|[\", поліція, затр...|\n",
      "|http://k.img.com....|У Києві продавець...|\"увечері, 20 липн...|[\"увечері,, 20, л...|[\"увечері,, 20, л...|[\", увечері, ,, 2...|\n",
      "|http://k.img.com....|На станції метро ...|\"прес-служба київ...|[\"прес-служба, ки...|[\"прес-служба, ки...|[\", прес, -, служ...|\n",
      "|http://k.img.com....|Мінкульт показав,...|\"у києві під час ...|[\"у, києві, під, ...|[\"у, києві, під, ...|[\", у, кий, під, ...|\n",
      "|http://k.img.com....|У Києві помітили ...|\"німецького музик...|[\"німецького, муз...|[\"німецького, муз...|[\", німецький, му...|\n",
      "|http://k.img.com....|Вибух авто в Києв...|\"про це повідомля...|[\"про, це, повідо...|[\"про, це, повідо...|[\", про, це, пові...|\n",
      "|http://k.img.com....|Марш рівності 201...|\"акція за участю ...|[\"акція, за, учас...|[\"акція, за, учас...|[\", акція, за, уч...|\n",
      "|http://k.img.com....|У Мережі показали...|\"у мережі опублік...|[\"у, мережі, опуб...|[\"у, мережі, опуб...|[\", у, мережа, оп...|\n",
      "|http://k.img.com....|У Києві на вихідн...|\"у києві дві ночі...|[\"у, києві, дві, ...|[\"у, києві, дві, ...|[\", у, кий, два, ...|\n",
      "+--------------------+--------------------+--------------------+--------------------+--------------------+--------------------+\n",
      "only showing top 20 rows\n",
      "\n"
     ]
    }
   ],
   "source": [
    "tokenizer = Tokenizer(inputCol=\"body\", outputCol=\"tokens\")\n",
    "tokenized_df = tokenizer.transform(df)\n",
    "\n",
    "stopwords_remover = StopWordsRemover(inputCol=\"tokens\", outputCol=\"filtered_tokens\")\n",
    "filtered_df = stopwords_remover.transform(tokenized_df)\n",
    "\n",
    "def remove_empty_elements(text):\n",
    "    return [word.strip() for word in text if word.strip()]\n",
    "\n",
    "remove_empty_udf = udf(remove_empty_elements, ArrayType(StringType()))\n",
    "filtered_df = filtered_df.withColumn(\"filtered_tokens\", remove_empty_udf(col(\"filtered_tokens\")))\n",
    "\n",
    "nlp = spacy.load(\"uk_core_news_sm\")\n",
    "\n",
    "def lemmatize_text(text):\n",
    "    doc = nlp(\" \".join(text))\n",
    "    return [token.lemma_ for token in doc]\n",
    "\n",
    "lemmatizer_udf = udf(lemmatize_text, ArrayType(StringType()))\n",
    "lemmatized_df = filtered_df.withColumn(\"lemmatized\", lemmatizer_udf(col(\"filtered_tokens\")))\n",
    "\n",
    "lemmatized_df.write.mode(\"overwrite\").parquet(\"output/lemmatized.parquet\")\n",
    "\n",
    "lemmatized_df.show()"
   ]
  },
  {
   "cell_type": "code",
   "execution_count": 0,
   "metadata": {
    "application/vnd.databricks.v1+cell": {
     "cellMetadata": {
      "byteLimit": 2048000,
      "rowLimit": 10000
     },
     "inputWidgets": {},
     "nuid": "e2133b4a-d0a9-459e-87f3-1fb7b6b7220f",
     "showTitle": false,
     "tableResultSettingsMap": {},
     "title": ""
    }
   },
   "outputs": [
    {
     "name": "stdout",
     "output_type": "stream",
     "text": [
      "+--------------------+--------------------+--------------------+--------------------+--------------------+--------------------+--------------------+\n",
      "|                  id|               title|                body|              tokens|     filtered_tokens|          lemmatized|            features|\n",
      "+--------------------+--------------------+--------------------+--------------------+--------------------+--------------------+--------------------+\n",
      "|http://k.img.com....|Кличко покликав н...|\"київ - перспекти...|[\"київ, -, перспе...|[\"київ, -, перспе...|[\", київ, -, перс...|(18652,[0,1,2,3,4...|\n",
      "|http://k.img.com....|З'явилося відео, ...|\"   з'явилося від...|[\" , , з'явилося,...|[\", з'явилося, ві...|[\", з'явитися, ві...|(18652,[0,1,2,3,4...|\n",
      "|http://k.img.com....|У центрі Києва по...|у києві на бессар...|[у, києві, на, бе...|[у, києві, на, бе...|[у, кий, на, бесс...|(18652,[0,1,2,4,6...|\n",
      "|http://k.img.com....|Нічний ураган пер...|київ вночі 16 сер...|[київ, вночі, 16,...|[київ, вночі, 16,...|[київ, вночі, 16,...|(18652,[0,1,4,6,7...|\n",
      "|http://k.img.com....|Потоп у Києві: ст...|уночі київ вкотре...|[уночі, київ, вко...|[уночі, київ, вко...|[уночі, київ, вко...|(18652,[0,1,2,4,6...|\n",
      "|http://k.img.com....|У Києві потрапив ...|\"колишній народни...|[\"колишній, народ...|[\"колишній, народ...|[\", колишній, нар...|(18652,[0,1,2,3,4...|\n",
      "|http://k.img.com....|У Києві пограбува...|\"у києві троє нев...|[\"у, києві, троє,...|[\"у, києві, троє,...|[\", у, кий, троє,...|(18652,[0,1,2,3,4...|\n",
      "|http://k.img.com....|У Києві обмежать ...|у києві на вихідн...|[у, києві, на, ви...|[у, києві, на, ви...|[у, кий, на, вихі...|(18652,[0,1,2,4,5...|\n",
      "|http://k.img.com....|\"У Києві \"\"заміну...|\"на майдані незал...|[\"на, майдані, не...|[\"на, майдані, не...|[\", на, майдан, н...|(18652,[0,1,2,3,4...|\n",
      "|http://k.img.com....|У Києві посилять ...|у києві у зв'язку...|[у, києві, у, зв'...|[у, києві, у, зв'...|[у, кий, у, зв'яз...|(18652,[0,1,2,4,5...|\n",
      "|http://k.img.com....|У Києві інспектор...|у вересні набудут...|[у, вересні, набу...|[у, вересні, набу...|[у, вересень, наб...|(18652,[0,1,2,4,6...|\n",
      "|http://k.img.com....|Поліція затримала...|\"поліція затримал...|[\"поліція, затрим...|[\"поліція, затрим...|[\", поліція, затр...|(18652,[0,1,2,3,4...|\n",
      "|http://k.img.com....|У Києві продавець...|\"увечері, 20 липн...|[\"увечері,, 20, л...|[\"увечері,, 20, л...|[\", увечері, ,, 2...|(18652,[0,1,2,3,4...|\n",
      "|http://k.img.com....|На станції метро ...|\"прес-служба київ...|[\"прес-служба, ки...|[\"прес-служба, ки...|[\", прес, -, служ...|(18652,[0,1,2,3,4...|\n",
      "|http://k.img.com....|Мінкульт показав,...|\"у києві під час ...|[\"у, києві, під, ...|[\"у, києві, під, ...|[\", у, кий, під, ...|(18652,[1,2,3,4,5...|\n",
      "|http://k.img.com....|У Києві помітили ...|\"німецького музик...|[\"німецького, муз...|[\"німецького, муз...|[\", німецький, му...|(18652,[0,1,2,3,4...|\n",
      "|http://k.img.com....|Вибух авто в Києв...|\"про це повідомля...|[\"про, це, повідо...|[\"про, це, повідо...|[\", про, це, пові...|(18652,[0,1,2,3,4...|\n",
      "|http://k.img.com....|Марш рівності 201...|\"акція за участю ...|[\"акція, за, учас...|[\"акція, за, учас...|[\", акція, за, уч...|(18652,[0,1,3,4,5...|\n",
      "|http://k.img.com....|У Мережі показали...|\"у мережі опублік...|[\"у, мережі, опуб...|[\"у, мережі, опуб...|[\", у, мережа, оп...|(18652,[0,1,2,3,6...|\n",
      "|http://k.img.com....|У Києві на вихідн...|\"у києві дві ночі...|[\"у, києві, дві, ...|[\"у, києві, дві, ...|[\", у, кий, два, ...|(18652,[0,1,2,3,4...|\n",
      "+--------------------+--------------------+--------------------+--------------------+--------------------+--------------------+--------------------+\n",
      "only showing top 20 rows\n",
      "\n"
     ]
    }
   ],
   "source": [
    "vectorizer = CountVectorizer(inputCol=\"lemmatized\", outputCol=\"features\")\n",
    "bow_model = vectorizer.fit(lemmatized_df)\n",
    "bow_df = bow_model.transform(lemmatized_df)\n",
    "\n",
    "bow_df.select(\"id\", \"features\").write.mode(\"overwrite\").parquet(\"output/bow.parquet\")\n",
    "\n",
    "bow_df.show()"
   ]
  },
  {
   "cell_type": "code",
   "execution_count": 0,
   "metadata": {
    "application/vnd.databricks.v1+cell": {
     "cellMetadata": {
      "byteLimit": 2048000,
      "rowLimit": 10000
     },
     "inputWidgets": {},
     "nuid": "c62458bd-1ac7-45f4-9d58-ce09ec19b902",
     "showTitle": false,
     "tableResultSettingsMap": {},
     "title": ""
    }
   },
   "outputs": [
    {
     "name": "stdout",
     "output_type": "stream",
     "text": [
      "+--------------------+--------------------+--------------------+--------------------+--------------------+--------------------+--------------------+--------------------+--------------------+\n",
      "|                  id|               title|                body|              tokens|     filtered_tokens|          lemmatized|            features|               tfidf|           top_words|\n",
      "+--------------------+--------------------+--------------------+--------------------+--------------------+--------------------+--------------------+--------------------+--------------------+\n",
      "|http://k.img.com....|Кличко покликав н...|\"київ - перспекти...|[\"київ, -, перспе...|[\"київ, -, перспе...|[\", київ, -, перс...|(18652,[0,1,2,3,4...|(18652,[0,1,2,3,4...|[{київ, 8.889948}...|\n",
      "|http://k.img.com....|З'явилося відео, ...|\"   з'явилося від...|[\" , , з'явилося,...|[\", з'явилося, ві...|[\", з'явитися, ві...|(18652,[0,1,2,3,4...|(18652,[0,1,2,3,4...|[{водій, 18.88469...|\n",
      "|http://k.img.com....|У центрі Києва по...|у києві на бессар...|[у, києві, на, бе...|[у, києві, на, бе...|[у, кий, на, бесс...|(18652,[0,1,2,4,6...|(18652,[0,1,2,4,6...|[{вулиця, 8.50234...|\n",
      "|http://k.img.com....|Нічний ураган пер...|київ вночі 16 сер...|[київ, вночі, 16,...|[київ, вночі, 16,...|[київ, вночі, 16,...|(18652,[0,1,4,6,7...|(18652,[0,1,4,6,7...|[{хрещатик, 16.24...|\n",
      "|http://k.img.com....|Потоп у Києві: ст...|уночі київ вкотре...|[уночі, київ, вко...|[уночі, київ, вко...|[уночі, київ, вко...|(18652,[0,1,2,4,6...|(18652,[0,1,2,4,6...|[{накрити, 15.695...|\n",
      "|http://k.img.com....|У Києві потрапив ...|\"колишній народни...|[\"колишній, народ...|[\"колишній, народ...|[\", колишній, нар...|(18652,[0,1,2,3,4...|(18652,[0,1,2,3,4...|[{honda, 11.27492...|\n",
      "|http://k.img.com....|У Києві пограбува...|\"у києві троє нев...|[\"у, києві, троє,...|[\"у, києві, троє,...|[\", у, кий, троє,...|(18652,[0,1,2,3,4...|(18652,[0,1,2,3,4...|[{охоронець, 15.6...|\n",
      "|http://k.img.com....|У Києві обмежать ...|у києві на вихідн...|[у, києві, на, ви...|[у, києві, на, ви...|[у, кий, на, вихі...|(18652,[0,1,2,4,5...|(18652,[0,1,2,4,5...|[{міст, 20.927998...|\n",
      "|http://k.img.com....|\"У Києві \"\"заміну...|\"на майдані незал...|[\"на, майдані, не...|[\"на, майдані, не...|[\", на, майдан, н...|(18652,[0,1,2,3,4...|(18652,[0,1,2,3,4...|[{поліція, 6.3051...|\n",
      "|http://k.img.com....|У Києві посилять ...|у києві у зв'язку...|[у, києві, у, зв'...|[у, києві, у, зв'...|[у, кий, у, зв'яз...|(18652,[0,1,2,4,5...|(18652,[0,1,2,4,5...|[{правопорядок, 1...|\n",
      "|http://k.img.com....|У Києві інспектор...|у вересні набудут...|[у, вересні, набу...|[у, вересні, набу...|[у, вересень, наб...|(18652,[0,1,2,4,6...|(18652,[0,1,2,4,6...|[{припаркований, ...|\n",
      "|http://k.img.com....|Поліція затримала...|\"поліція затримал...|[\"поліція, затрим...|[\"поліція, затрим...|[\", поліція, затр...|(18652,[0,1,2,3,4...|(18652,[0,1,2,3,4...|[{підозрюваний, 1...|\n",
      "|http://k.img.com....|У Києві продавець...|\"увечері, 20 липн...|[\"увечері,, 20, л...|[\"увечері,, 20, л...|[\", увечері, ,, 2...|(18652,[0,1,2,3,4...|(18652,[0,1,2,3,4...|[{шаурма, 11.8502...|\n",
      "|http://k.img.com....|На станції метро ...|\"прес-служба київ...|[\"прес-служба, ки...|[\"прес-служба, ки...|[\", прес, -, служ...|(18652,[0,1,2,3,4...|(18652,[0,1,2,3,4...|[{лівобережний, 1...|\n",
      "|http://k.img.com....|Мінкульт показав,...|\"у києві під час ...|[\"у, києві, під, ...|[\"у, києві, під, ...|[\", у, кий, під, ...|(18652,[1,2,3,4,5...|(18652,[1,2,3,4,5...|[{конкурс, 13.240...|\n",
      "|http://k.img.com....|У Києві помітили ...|\"німецького музик...|[\"німецького, муз...|[\"німецького, муз...|[\", німецький, му...|(18652,[0,1,2,3,4...|(18652,[0,1,2,3,4...|[{поштовий, 10.46...|\n",
      "|http://k.img.com....|Вибух авто в Києв...|\"про це повідомля...|[\"про, це, повідо...|[\"про, це, повідо...|[\", про, це, пові...|(18652,[0,1,2,3,4...|(18652,[0,1,2,3,4...|[{правоохоронний,...|\n",
      "|http://k.img.com....|Марш рівності 201...|\"акція за участю ...|[\"акція, за, учас...|[\"акція, за, учас...|[\", акція, за, уч...|(18652,[0,1,3,4,5...|(18652,[0,1,3,4,5...|[{марш, 37.98367}...|\n",
      "|http://k.img.com....|У Мережі показали...|\"у мережі опублік...|[\"у, мережі, опуб...|[\"у, мережі, опуб...|[\", у, мережа, оп...|(18652,[0,1,2,3,6...|(18652,[0,1,2,3,6...|[{стрибати, 6.330...|\n",
      "|http://k.img.com....|У Києві на вихідн...|\"у києві дві ночі...|[\"у, києві, дві, ...|[\"у, києві, дві, ...|[\", у, кий, два, ...|(18652,[0,1,2,3,4...|(18652,[0,1,2,3,4...|[{порик, 12.66122...|\n",
      "+--------------------+--------------------+--------------------+--------------------+--------------------+--------------------+--------------------+--------------------+--------------------+\n",
      "only showing top 20 rows\n",
      "\n"
     ]
    }
   ],
   "source": [
    "idf = IDF(inputCol=\"features\", outputCol=\"tfidf\")\n",
    "idf_model = idf.fit(bow_df)\n",
    "tfidf_df = idf_model.transform(bow_df)\n",
    "\n",
    "vocab = bow_model.vocabulary\n",
    "def extract_top_words(tfidf_vector, vocab, top_n=10):\n",
    "    indices = np.argsort(tfidf_vector.toArray())[::-1][:top_n]\n",
    "    indices = [int(i) for i in indices]\n",
    "    return [(vocab[i], float(tfidf_vector[i])) for i in indices]\n",
    "\n",
    "extract_top_words_udf = udf(\n",
    "    lambda vector: [(word, score) for word, score in extract_top_words(vector, vocab)],\n",
    "    ArrayType(StructType([\n",
    "        StructField(\"word\", StringType(), True),\n",
    "        StructField(\"score\", FloatType(), True)\n",
    "    ]))\n",
    ")\n",
    "top_words_df = tfidf_df.withColumn(\"top_words\", extract_top_words_udf(col(\"tfidf\")))\n",
    "\n",
    "top_words_df.show()"
   ]
  },
  {
   "cell_type": "code",
   "execution_count": 0,
   "metadata": {
    "application/vnd.databricks.v1+cell": {
     "cellMetadata": {
      "byteLimit": 2048000,
      "rowLimit": 10000
     },
     "inputWidgets": {},
     "nuid": "6953c2a6-3f7c-42d0-b461-d114656e4530",
     "showTitle": false,
     "tableResultSettingsMap": {},
     "title": ""
    }
   },
   "outputs": [
    {
     "name": "stdout",
     "output_type": "stream",
     "text": [
      "+--------------------+--------------------+--------------------+-----------------+\n",
      "|                  Id|       body_features|      title_features|cosine_similarity|\n",
      "+--------------------+--------------------+--------------------+-----------------+\n",
      "|http://k.img.com....|(18652,[0,1,2,3,4...|(18652,[17,206,35...|       0.18107149|\n",
      "|http://k.img.com....|(18652,[0,1,2,3,4...|(18652,[0,2,6,33,...|       0.46589082|\n",
      "|http://k.img.com....|(18652,[0,1,2,4,6...|(18652,[6,109,194...|       0.23643312|\n",
      "|http://k.img.com....|(18652,[0,1,4,6,7...|(18652,[4,2176,28...|       0.31622776|\n",
      "|http://k.img.com....|(18652,[0,1,2,4,6...|(18652,[6,8,19,36...|       0.16506252|\n",
      "|http://k.img.com....|(18652,[0,1,2,3,4...|(18652,[2,5,6,143...|        0.2248595|\n",
      "|http://k.img.com....|(18652,[0,1,2,3,4...|(18652,[6,7,364,7...|       0.42133242|\n",
      "|http://k.img.com....|(18652,[0,1,2,4,5...|(18652,[6,364,687...|        0.5035088|\n",
      "|http://k.img.com....|(18652,[0,1,2,3,4...|(18652,[3,6,364,1...|       0.65251666|\n",
      "|http://k.img.com....|(18652,[0,1,2,4,5...|(18652,[6,7,121,1...|       0.38729835|\n",
      "|http://k.img.com....|(18652,[0,1,2,4,6...|(18652,[6,8,364,5...|       0.22700174|\n",
      "|http://k.img.com....|(18652,[0,1,2,3,4...|(18652,[2,6,243,3...|       0.30573428|\n",
      "|http://k.img.com....|(18652,[0,1,2,3,4...|(18652,[6,228,364...|       0.22908106|\n",
      "|http://k.img.com....|(18652,[0,1,2,3,4...|(18652,[2,4,146,3...|       0.27144834|\n",
      "|http://k.img.com....|(18652,[1,2,3,4,5...|(18652,[0,33,132,...|      0.107624404|\n",
      "|http://k.img.com....|(18652,[0,1,2,3,4...|(18652,[6,199,364...|       0.16035675|\n",
      "|http://k.img.com....|(18652,[0,1,2,3,4...|(18652,[0,2,11,19...|       0.17739372|\n",
      "|http://k.img.com....|(18652,[0,1,3,4,5...|(18652,[5,19,224,...|       0.46291006|\n",
      "|http://k.img.com....|(18652,[0,1,2,3,6...|(18652,[0,2,6,33,...|        0.4272046|\n",
      "|http://k.img.com....|(18652,[0,1,2,3,4...|(18652,[4,6,364,7...|       0.45184806|\n",
      "+--------------------+--------------------+--------------------+-----------------+\n",
      "only showing top 20 rows\n",
      "\n"
     ]
    }
   ],
   "source": [
    "def cosine_similarity(v1, v2):\n",
    "    if v1 is None or v2 is None:\n",
    "        return float(0)\n",
    "    dot_product = np.dot(v1.toArray(), v2.toArray())\n",
    "    norm_a = np.linalg.norm(v1.toArray())\n",
    "    norm_b = np.linalg.norm(v2.toArray())\n",
    "    return float(dot_product / (norm_a * norm_b))\n",
    "\n",
    "cosine_similarity_udf = udf(cosine_similarity, FloatType())\n",
    "\n",
    "tokenizer = Tokenizer(inputCol=\"title\", outputCol=\"title_tokens\")\n",
    "tokenized_df = tokenizer.transform(df)\n",
    "\n",
    "stopwords_remover = StopWordsRemover(inputCol=\"title_tokens\", outputCol=\"filtered_title_tokens\")\n",
    "filtered_df = stopwords_remover.transform(tokenized_df)\n",
    "\n",
    "def remove_empty_elements(text):\n",
    "    return [word.strip() for word in text if word.strip()]\n",
    "\n",
    "remove_empty_udf = udf(remove_empty_elements, ArrayType(StringType()))\n",
    "filtered_df = filtered_df.withColumn(\"filtered_title_tokens\", remove_empty_udf(col(\"filtered_title_tokens\")))\n",
    "lemmatized_df = filtered_df.withColumn(\"lemmatized\", lemmatizer_udf(col(\"filtered_title_tokens\")))\n",
    "\n",
    "vectorized_title = bow_model.transform(lemmatized_df).withColumnRenamed(\"features\", \"title_features\")\n",
    "vectorized_body = tfidf_df.withColumnRenamed(\"features\", \"body_features\").select(\"Id\", \"body_features\")\n",
    "\n",
    "similarity_df = vectorized_body.join(vectorized_title.select(\"Id\", \"title_features\"), on=\"Id\", how=\"inner\")\n",
    "similarity_df = similarity_df.withColumn(\"cosine_similarity\", cosine_similarity_udf(col(\"title_features\"), col(\"body_features\")))\n",
    "\n",
    "similarity_df.show()"
   ]
  },
  {
   "cell_type": "code",
   "execution_count": 0,
   "metadata": {
    "application/vnd.databricks.v1+cell": {
     "cellMetadata": {
      "byteLimit": 2048000,
      "rowLimit": 10000
     },
     "inputWidgets": {},
     "nuid": "a4f41360-c0d7-4c14-a5e5-8ab68771a435",
     "showTitle": false,
     "tableResultSettingsMap": {},
     "title": ""
    }
   },
   "outputs": [
    {
     "name": "stdout",
     "output_type": "stream",
     "text": [
      "+--------------------+--------------------+--------------------+-----------------+\n",
      "|                  Id|       body_features|      title_features|cosine_similarity|\n",
      "+--------------------+--------------------+--------------------+-----------------+\n",
      "|http://k.img.com....|(18652,[1,2,6,7,8...|       (18652,[],[])|              NaN|\n",
      "|http://k.img.com....|(18652,[0,3,5,30,...|       (18652,[],[])|              NaN|\n",
      "|http://k.img.com....|(18652,[0,1,4,5,8...|       (18652,[],[])|              NaN|\n",
      "|http://k.img.com....|(18652,[3,4,5,603...|(18652,[3,5,100,1...|       0.87996995|\n",
      "|http://k.img.com....|(18652,[0,1,2,3,4...|(18652,[2,3,4,12,...|       0.87368435|\n",
      "|http://k.img.com....|(18652,[0,1,2,3,4...|(18652,[2,3,4,12,...|       0.87368435|\n",
      "|http://k.img.com....|(18652,[0,1,2,3,4...|(18652,[2,3,4,12,...|       0.87368435|\n",
      "|http://k.img.com....|(18652,[0,1,2,3,4...|(18652,[2,3,4,12,...|       0.87368435|\n",
      "|http://k.img.com....|(18652,[3,4,1633,...|(18652,[3,6,1104,...|        0.8695387|\n",
      "|http://k.img.com....|(18652,[2,3,13,15...|(18652,[2,3,6,91,...|        0.8230355|\n",
      "|http://k.img.com....|(18652,[3,6,8,16,...|(18652,[3,130,419...|        0.8095238|\n",
      "|http://k.img.com....|(18652,[0,1,2,3,4...|(18652,[3,4,17,22...|       0.78081244|\n",
      "|http://k.img.com....|(18652,[1,2,3,4,5...|(18652,[2,3,105,3...|        0.7728015|\n",
      "|http://k.img.com....|(18652,[0,1,2,3,5...|(18652,[2,3,8,187...|        0.7615456|\n",
      "|http://k.img.com....|(18652,[0,1,3,4,1...|(18652,[3,4,24,29...|        0.7563029|\n",
      "|http://k.img.com....|(18652,[3,8,378,4...|(18652,[3,4,19,25...|        0.7533178|\n",
      "|http://k.img.com....|(18652,[1,2,3,4,5...|(18652,[2,3,4,607...|        0.7462025|\n",
      "|http://k.img.com....|(18652,[0,1,3,4,6...|(18652,[3,55,503,...|        0.7438395|\n",
      "|http://k.img.com....|(18652,[1,3,4,5,6...|(18652,[3,5,19,16...|       0.74070734|\n",
      "|http://k.img.com....|(18652,[1,2,3,4,7...|(18652,[2,3,7,480...|       0.73458403|\n",
      "+--------------------+--------------------+--------------------+-----------------+\n",
      "only showing top 20 rows\n",
      "\n"
     ]
    }
   ],
   "source": [
    "similarity_df.orderBy(desc(\"cosine_similarity\")).show()"
   ]
  },
  {
   "cell_type": "code",
   "execution_count": 0,
   "metadata": {
    "application/vnd.databricks.v1+cell": {
     "cellMetadata": {
      "byteLimit": 2048000,
      "rowLimit": 10000
     },
     "inputWidgets": {},
     "nuid": "520acfa8-3271-4fca-9636-640123dd670a",
     "showTitle": false,
     "tableResultSettingsMap": {},
     "title": ""
    }
   },
   "outputs": [
    {
     "name": "stdout",
     "output_type": "stream",
     "text": [
      "Кількість дублів: 450\n"
     ]
    }
   ],
   "source": [
    "threshold = 0.7\n",
    "\n",
    "\n",
    "cross_df = similarity_df.alias(\"df1\").crossJoin(similarity_df.alias(\"df2\"))\n",
    "filtered_df = cross_df.filter(\n",
    "    (col(\"df1.cosine_similarity\") > threshold) & \n",
    "    (col(\"df2.cosine_similarity\") > threshold) &\n",
    "    (col(\"df1.Id\") != col(\"df2.Id\"))\n",
    ")\n",
    "\n",
    "duplicate_count = filtered_df.count()\n",
    "print(f\"Кількість дублів: {duplicate_count}\")"
   ]
  },
  {
   "cell_type": "code",
   "execution_count": 0,
   "metadata": {
    "application/vnd.databricks.v1+cell": {
     "cellMetadata": {},
     "inputWidgets": {},
     "nuid": "abacf543-e3d6-4bb2-89aa-2d755d7fef49",
     "showTitle": false,
     "tableResultSettingsMap": {},
     "title": ""
    }
   },
   "outputs": [],
   "source": []
  }
 ],
 "metadata": {
  "application/vnd.databricks.v1+notebook": {
   "computePreferences": null,
   "dashboards": [],
   "environmentMetadata": {
    "base_environment": "",
    "client": "1"
   },
   "language": "python",
   "notebookMetadata": {
    "pythonIndentUnit": 4
   },
   "notebookName": "Lab5",
   "widgets": {}
  },
  "kernelspec": {
   "display_name": "Python 3",
   "language": "python",
   "name": "python3"
  },
  "language_info": {
   "name": "python",
   "version": "3.11.4"
  }
 },
 "nbformat": 4,
 "nbformat_minor": 0
}
