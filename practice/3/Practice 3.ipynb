{
 "cells": [
  {
   "cell_type": "code",
   "execution_count": 1,
   "metadata": {},
   "outputs": [
    {
     "data": {
      "text/plain": [
       "'C:\\\\spark-3.5.3-bin-hadoop3'"
      ]
     },
     "execution_count": 1,
     "metadata": {},
     "output_type": "execute_result"
    }
   ],
   "source": [
    "import findspark\n",
    "findspark.init()\n",
    "import pyspark\n",
    "findspark.find()"
   ]
  },
  {
   "cell_type": "code",
   "execution_count": 2,
   "metadata": {},
   "outputs": [],
   "source": [
    "from pyspark.sql import SparkSession\n",
    "\n",
    "spark = SparkSession.builder \\\n",
    "    .appName(\"BooksRecommendations\") \\\n",
    "    .master(\"local[*]\") \\\n",
    "    .config(\"spark.serializer\", \"org.apache.spark.serializer.KryoSerializer\") \\\n",
    "    .config(\"spark.kryoserializer.buffer.max\", \"1g\") \\\n",
    "    .config(\"spark.executor.extraJavaOptions\", \"-Xss4m\") \\\n",
    "    .config(\"spark.driver.extraJavaOptions\", \"-Xss4m\") \\\n",
    "    .config(\"spark.ui.showConsoleProgress\", \"true\") \\\n",
    "    .getOrCreate()\n",
    "spark.sparkContext.setLogLevel(\"DEBUG\")"
   ]
  },
  {
   "cell_type": "code",
   "execution_count": 3,
   "metadata": {
    "application/vnd.databricks.v1+cell": {
     "cellMetadata": {
      "byteLimit": 2048000,
      "rowLimit": 10000
     },
     "inputWidgets": {},
     "nuid": "190df00c-610e-4364-8352-531e0688029f",
     "showTitle": false,
     "tableResultSettingsMap": {},
     "title": ""
    }
   },
   "outputs": [],
   "source": [
    "from pyspark.ml.recommendation import ALS\n",
    "from pyspark.ml.evaluation import RegressionEvaluator\n",
    "from pyspark.ml.feature import StringIndexer\n",
    "from pyspark.sql import functions as F\n",
    "from pyspark.ml.tuning import ParamGridBuilder, CrossValidator\n",
    "from pyspark.sql.functions import col\n",
    "\n",
    "\n",
    "ratings_spark = spark.read.csv(\"./Ratings.csv\", header=True, inferSchema=True).limit(100000)\n",
    "books_spark = spark.read.csv(\"./Books.csv\", header=True, inferSchema=True)\n",
    "users_spark = spark.read.csv(\"./Users.csv\", header=True, inferSchema=True)\n",
    "\n",
    "isbn_indexer = StringIndexer(inputCol=\"ISBN\", outputCol=\"ISBNIndex\").fit(ratings_spark)\n",
    "indexed_ratings = isbn_indexer.transform(ratings_spark)\n",
    "\n",
    "avg_age = users_spark.select(\"Age\").na.drop().agg({\"Age\": \"avg\"}).collect()[0][0]\n",
    "users_spark = users_spark.withColumn(\n",
    "    \"Age\",\n",
    "    col(\"Age\").cast(\"float\")\n",
    ").na.fill({\"Age\": avg_age})\n",
    "\n",
    "location_indexer = StringIndexer(inputCol=\"Location\", outputCol=\"LocationIndex\").fit(users_spark)\n",
    "users_spark = location_indexer.transform(users_spark)\n",
    "\n",
    "(training, test) = indexed_ratings.randomSplit([0.8, 0.2], seed=1234)\n",
    "\n",
    "training = training.dropna(subset=[\"User-ID\", \"ISBNIndex\", \"Book-Rating\"])\n",
    "test = test.dropna(subset=[\"User-ID\", \"ISBNIndex\", \"Book-Rating\"])\n",
    "\n",
    "\n"
   ]
  },
  {
   "cell_type": "code",
   "execution_count": null,
   "metadata": {
    "application/vnd.databricks.v1+cell": {
     "cellMetadata": {
      "byteLimit": 2048000,
      "rowLimit": 10000
     },
     "inputWidgets": {},
     "nuid": "02de572e-4dc0-4429-9b64-1ad1b49c2bb6",
     "showTitle": false,
     "tableResultSettingsMap": {},
     "title": ""
    }
   },
   "outputs": [
    {
     "name": "stdout",
     "output_type": "stream",
     "text": [
      "Best rank: 40\n",
      "Best regParam: 2.0\n",
      "Best maxIter: 30\n",
      "Test RMSE for the best model: 4.4868511765887895\n"
     ]
    }
   ],
   "source": [
    "evaluator = RegressionEvaluator(\n",
    "    metricName=\"rmse\",\n",
    "    labelCol=\"Book-Rating\",\n",
    "    predictionCol=\"prediction\"\n",
    ")\n",
    "\n",
    "als = ALS(\n",
    "    userCol=\"User-ID\",\n",
    "    itemCol=\"ISBNIndex\",\n",
    "    ratingCol=\"Book-Rating\",\n",
    "    coldStartStrategy=\"drop\"\n",
    ")\n",
    "\n",
    "paramGrid = ParamGridBuilder() \\\n",
    "    .addGrid(als.rank, [30, 40, 50]) \\\n",
    "    .addGrid(als.regParam, [1, 2, 3]) \\\n",
    "    .addGrid(als.maxIter, [20, 30]) \\\n",
    "    .build()\n",
    "\n",
    "crossval = CrossValidator(\n",
    "    estimator=als,\n",
    "    estimatorParamMaps=paramGrid,\n",
    "    evaluator=evaluator,\n",
    "    numFolds=3\n",
    ")\n",
    "\n",
    "cv_model = crossval.fit(training)\n",
    "\n",
    "best_model = cv_model.bestModel\n",
    "\n",
    "best_rank = best_model.rank\n",
    "best_regParam = best_model._java_obj.parent().getRegParam()\n",
    "best_maxIter = best_model._java_obj.parent().getMaxIter()\n",
    "\n",
    "print(f\"Best rank: {best_rank}\")\n",
    "print(f\"Best regParam: {best_regParam}\")\n",
    "print(f\"Best maxIter: {best_maxIter}\")\n",
    "\n",
    "predictions = best_model.transform(test)\n",
    "rmse = evaluator.evaluate(predictions)\n",
    "print(f\"Test RMSE for the best model: {rmse}\")"
   ]
  },
  {
   "cell_type": "code",
   "execution_count": 5,
   "metadata": {
    "application/vnd.databricks.v1+cell": {
     "cellMetadata": {
      "byteLimit": 2048000,
      "rowLimit": 10000
     },
     "inputWidgets": {},
     "nuid": "f7aaa62f-896d-4726-a846-4a19de3ae568",
     "showTitle": false,
     "tableResultSettingsMap": {},
     "title": ""
    }
   },
   "outputs": [
    {
     "name": "stdout",
     "output_type": "stream",
     "text": [
      "Top-10 Recommendations for all users:\n",
      "+----------+------------------------+\n",
      "|      ISBN|average_predicted_rating|\n",
      "+----------+------------------------+\n",
      "|0061009482|       8.763969421386719|\n",
      "|0515103969|       8.685998916625977|\n",
      "|1878399705|         8.5183687210083|\n",
      "|3453879236|       8.493897676467896|\n",
      "|0819830992|       8.135774612426758|\n",
      "|9023470923|       8.042176961898804|\n",
      "|0486270718|       8.021389770507813|\n",
      "|0312319142|       8.012151718139648|\n",
      "|0312319517|       8.012151718139648|\n",
      "|0316591122|       8.012151718139648|\n",
      "+----------+------------------------+\n",
      "\n",
      "\n",
      "Detailed Top-10 Recommendations for all users:\n",
      "+--------------------+-----------------+------------------------+\n",
      "|          Book-Title|      Book-Author|average_predicted_rating|\n",
      "+--------------------+-----------------+------------------------+\n",
      "|The Sacrifice of ...|      Naomi Ragen|       8.763969421386719|\n",
      "|      The Endearment|  LaVyrle Spencer|       8.685998916625977|\n",
      "|Maryland Lighthou...|  F. Ross Holland|         8.5183687210083|\n",
      "|                NULL|             NULL|       8.493897676467896|\n",
      "|Gianna Beretta Mo...|Giuliana Pelucchi|       8.135774612426758|\n",
      "|                NULL|             NULL|       8.042176961898804|\n",
      "|The Invisible Man...|      H. G. Wells|       8.021389770507813|\n",
      "|Avenger (Forsyth,...|Frederick Forsyth|       8.012151718139648|\n",
      "|  Paranoia : A Novel|    Joseph Finder|       8.012151718139648|\n",
      "|Fear Itself: A Fe...|    Walter Mosley|       8.012151718139648|\n",
      "+--------------------+-----------------+------------------------+\n",
      "\n"
     ]
    }
   ],
   "source": [
    "\n",
    "from pyspark.sql.functions import explode, col\n",
    "from pyspark.ml.feature import IndexToString\n",
    "\n",
    "isbn_converter = IndexToString(inputCol=\"ISBNIndex\", outputCol=\"ISBN\", labels=isbn_indexer.labels)\n",
    "\n",
    "all_user_recommendations = best_model.recommendForAllUsers(10)\n",
    "\n",
    "flat_recommendations = all_user_recommendations \\\n",
    "    .withColumn(\"recommendations\", explode(col(\"recommendations\"))) \\\n",
    "    .select(\n",
    "        col(\"recommendations.ISBNIndex\").alias(\"ISBNIndex\"),\n",
    "        col(\"recommendations.rating\").alias(\"predicted_rating\")\n",
    "    )\n",
    "\n",
    "flat_recommendations = isbn_converter.transform(flat_recommendations)\n",
    "\n",
    "average_ratings = flat_recommendations \\\n",
    "    .groupBy(\"ISBN\") \\\n",
    "    .avg(\"predicted_rating\") \\\n",
    "    .withColumnRenamed(\"avg(predicted_rating)\", \"average_predicted_rating\")\n",
    "\n",
    "top_10_overall = average_ratings.orderBy(col(\"average_predicted_rating\").desc()).limit(10)\n",
    "\n",
    "print(\"Top-10 Recommendations for all users:\")\n",
    "top_10_overall.show()\n",
    "\n",
    "print()\n",
    "\n",
    "top_10_with_details = top_10_overall.join(\n",
    "    books_spark,\n",
    "    on=\"ISBN\",\n",
    "    how=\"left\"\n",
    ")\n",
    "\n",
    "print(\"Detailed Top-10 Recommendations for all users:\")\n",
    "top_10_with_details.select(\"Book-Title\", \"Book-Author\", \"average_predicted_rating\").orderBy(col(\"average_predicted_rating\").desc()).show()\n"
   ]
  },
  {
   "cell_type": "code",
   "execution_count": null,
   "metadata": {
    "application/vnd.databricks.v1+cell": {
     "cellMetadata": {
      "byteLimit": 2048000,
      "rowLimit": 10000
     },
     "inputWidgets": {},
     "nuid": "52fa150e-28e1-4169-ba06-1bd2b1ae227a",
     "showTitle": false,
     "tableResultSettingsMap": {},
     "title": ""
    }
   },
   "outputs": [
    {
     "name": "stdout",
     "output_type": "stream",
     "text": [
      "+-------+-----------+------------------+---------+--------------------+-------+\n",
      "|User-ID|num_ratings|        avg_rating|      Age|            Location|cluster|\n",
      "+-------+-----------+------------------+---------+--------------------+-------+\n",
      "|      2|          1|               0.0|     18.0|stockton, califor...|      0|\n",
      "|      7|          1|               0.0|34.751835| washington, dc, usa|      0|\n",
      "|      8|         18|2.1666666666666665|34.751835|timmins, ontario,...|      0|\n",
      "|      9|          3|               2.0|34.751835|germantown, tenne...|      0|\n",
      "|     10|          2|               3.0|     26.0|albacete, wiscons...|      0|\n",
      "|     12|          1|              10.0|34.751835|fort bragg, calif...|      1|\n",
      "|     14|          4|               4.0|34.751835|mediapolis, iowa,...|      0|\n",
      "|     16|          2|               4.5|34.751835|albuquerque, new ...|      1|\n",
      "|     17|          7|               3.0|34.751835|chesapeake, virgi...|      0|\n",
      "|     19|          1|               7.0|     14.0|           weston, ,|      2|\n",
      "|     20|          1|               0.0|     19.0|langhorne, pennsy...|      0|\n",
      "|     22|          4|              1.75|34.751835|erfurt, thueringe...|      0|\n",
      "|     23|          1|               0.0|34.751835|philadelphia, pen...|      0|\n",
      "|     26|          2|               9.5|34.751835|bellevue, washing...|      1|\n",
      "|     32|          3|2.6666666666666665|34.751835|portland, oregon,...|      0|\n",
      "|     36|          1|               0.0|     24.0|montreal, quebec,...|      0|\n",
      "|     38|          2|               0.0|     34.0|viterbo, lazio, i...|      0|\n",
      "|     39|          3|               5.0|34.751835|cary, north carol...|      1|\n",
      "|     42|          1|               7.0|     17.0|appleton, wiscons...|      1|\n",
      "|     44|          5|               1.6|     51.0|black mountain, n...|      0|\n",
      "+-------+-----------+------------------+---------+--------------------+-------+\n",
      "only showing top 20 rows\n",
      "\n"
     ]
    }
   ],
   "source": [
    "from pyspark.ml.clustering import KMeans\n",
    "from pyspark.ml.feature import StandardScaler, VectorAssembler\n",
    "\n",
    "user_features = ratings_spark.groupBy(\"User-ID\").agg(\n",
    "    F.count(\"ISBN\").alias(\"num_ratings\"),\n",
    "    F.avg(\"Book-Rating\").alias(\"avg_rating\"),\n",
    ").join(users_spark, on=\"User-ID\", how=\"inner\")\n",
    "\n",
    "assembler = VectorAssembler(inputCols=[\"num_ratings\", \"avg_rating\", \"LocationIndex\", \"Age\"], outputCol=\"raw_features\")\n",
    "data_with_features = assembler.transform(user_features)\n",
    "\n",
    "scaler = StandardScaler(inputCol=\"raw_features\", outputCol=\"features\", withStd=True, withMean=False)\n",
    "data_with_features = scaler.fit(data_with_features).transform(data_with_features)\n",
    "\n",
    "kmeans = KMeans(k=3, seed=1234, featuresCol=\"features\", predictionCol=\"cluster\")\n",
    "clustering_model = kmeans.fit(data_with_features)\n",
    "\n",
    "user_clusters = clustering_model.transform(data_with_features)\n",
    "\n",
    "user_clusters.select(\"User-ID\", \"num_ratings\", \"avg_rating\", \"Age\", \"Location\", \"cluster\").show()"
   ]
  },
  {
   "cell_type": "code",
   "execution_count": 22,
   "metadata": {
    "application/vnd.databricks.v1+cell": {
     "cellMetadata": {
      "byteLimit": 2048000,
      "rowLimit": 10000
     },
     "inputWidgets": {},
     "nuid": "e1b7a243-5761-4b97-a8ae-a33ca078ddfa",
     "showTitle": false,
     "tableResultSettingsMap": {},
     "title": ""
    }
   },
   "outputs": [
    {
     "data": {
      "image/png": "[encoded data removed]",
      "text/plain": [
       "<Figure size 1000x800 with 1 Axes>"
      ]
     },
     "metadata": {},
     "output_type": "display_data"
    }
   ],
   "source": [
    "from pyspark.ml.feature import PCA\n",
    "import matplotlib.pyplot as plt\n",
    "from pyspark.sql.functions import col\n",
    "import numpy as np\n",
    "\n",
    "pca = PCA(k=2, inputCol=\"features\", outputCol=\"pca_features\")\n",
    "pca_model = pca.fit(user_clusters)\n",
    "pca_data = pca_model.transform(user_clusters)\n",
    "\n",
    "pca_points = pca_data.select(\"pca_features\", \"cluster\").rdd.map(\n",
    "    lambda row: (row[\"pca_features\"][0], row[\"pca_features\"][1], row[\"cluster\"])\n",
    ").collect()\n",
    "\n",
    "x = [point[0] for point in pca_points]\n",
    "y = [point[1] for point in pca_points]\n",
    "labels = [point[2] for point in pca_points]\n",
    "\n",
    "plt.figure(figsize=(10, 8))\n",
    "colors = np.array(['red', 'blue', 'green'])\n",
    "plt.scatter(x, y, c=colors[labels], alpha=0.7, edgecolors='k')\n",
    "plt.title(f\"Cluster Visualization (k = {clustering_model.getK()})\")\n",
    "plt.xlabel(\"Principal Component 1\")\n",
    "plt.ylabel(\"Principal Component 2\")\n",
    "plt.grid(True)\n",
    "plt.show()"
   ]
  },
  {
   "cell_type": "code",
   "execution_count": 23,
   "metadata": {
    "application/vnd.databricks.v1+cell": {
     "cellMetadata": {
      "byteLimit": 2048000,
      "rowLimit": 10000
     },
     "inputWidgets": {},
     "nuid": "e3d3aa90-5828-4731-ab85-5111f789fc08",
     "showTitle": false,
     "tableResultSettingsMap": {},
     "title": ""
    }
   },
   "outputs": [],
   "source": [
    "cluster0users = user_clusters.filter(col('cluster') == 0)\n",
    "cluster1users = user_clusters.filter(col('cluster') == 1)\n",
    "cluster2users = user_clusters.filter(col('cluster') == 2)\n",
    "\n",
    "cluster0ratings = training.join(cluster0users, on=\"USER-ID\", how='inner')\n",
    "cluster1ratings = training.join(cluster1users, on=\"USER-ID\", how='inner')\n",
    "cluster2ratings = training.join(cluster2users, on=\"USER-ID\", how='inner')\n",
    "\n",
    "als.setRank(best_rank)\n",
    "als.setRegParam(best_regParam)\n",
    "als.setMaxIter(best_maxIter)\n",
    "\n",
    "model0 = als.fit(cluster0ratings)\n",
    "model1 = als.fit(cluster1ratings)\n",
    "model2 = als.fit(cluster2ratings)"
   ]
  },
  {
   "cell_type": "code",
   "execution_count": 49,
   "metadata": {},
   "outputs": [
    {
     "name": "stdout",
     "output_type": "stream",
     "text": [
      "Top 10 for cluster 0\n",
      "+-----------+--------------------+----------------+--------------------+--------------------+\n",
      "|       ISBN|          Book-Title|     Book-Author|           Publisher|avg_predicted_rating|\n",
      "+-----------+--------------------+----------------+--------------------+--------------------+\n",
      "| 1221229631|                NULL|            NULL|                NULL|   8.000000953674316|\n",
      "| 0749397403|                NULL|            NULL|                NULL|   7.999999523162842|\n",
      "|2.253000043|                NULL|            NULL|                NULL|   7.597014427185059|\n",
      "| 0595149782|Runaways: America...|Maryanne Raphael|     Backinprint.com|   7.171573638916016|\n",
      "| 0416052029|The Dream Catcher...|   Monica Hughes|Methuen Publishin...|   7.171573162078857|\n",
      "| 0070399042|Sweet Life: Adven...|   Barry Manilow|         McGraw-Hill|   7.171572208404541|\n",
      "| 0394223632|                NULL|            NULL|                NULL|    7.16209077835083|\n",
      "| 0563551437|The Nation's Favo...|Griff Rhys Jones|           BBC Books|   7.074970722198486|\n",
      "| 0515087491|The Corps: Semper...|W. E. B. Griffin|          Jove Books|    7.06885290145874|\n",
      "| 0515104175|Counterattack (Th...|W. E. B. Griffin|          Jove Books|    7.06885290145874|\n",
      "+-----------+--------------------+----------------+--------------------+--------------------+\n",
      "\n",
      "Top 10 for cluster 1\n",
      "+----------+--------------------+--------------------+--------------------+--------------------+\n",
      "|      ISBN|          Book-Title|         Book-Author|           Publisher|avg_predicted_rating|\n",
      "+----------+--------------------+--------------------+--------------------+--------------------+\n",
      "|051513175X|         The Descent|           Jeff Long|          Jove Books|   8.184800148010254|\n",
      "|1558747109|Chicken Soup for ...|       Jack Canfield|Health Communicat...|    8.14349365234375|\n",
      "| 078686240|                NULL|                NULL|                NULL|   8.143033981323242|\n",
      "|0452282268|          Le Mariage|       Diane Johnson|         Plume Books|   8.129670143127441|\n",
      "|0671698419| BORDERS OF INFINITY|Lois McMaster Bujold|                Baen|    8.12709903717041|\n",
      "|0609610597|The Shelters of S...|        JEAN M. AUEL|               Crown|    8.12709903717041|\n",
      "|0156787334| A Room of One's Own|      Virginia Woolf|            Harcourt|   8.116915702819824|\n",
      "|0140042393| The Grapes of Wrath|      John Steinbeck|         Penguin USA|    8.10230302810669|\n",
      "|0345452593|             Therapy|  Jonathan Kellerman|    Ballantine Books|   8.075313568115234|\n",
      "|0399151877|             Blowout|   Catherine Coulter|Putnam Publishing...|   8.075313568115234|\n",
      "+----------+--------------------+--------------------+--------------------+--------------------+\n",
      "\n",
      "Top 10 for cluster 2\n",
      "+----------+--------------------+-------------+--------------------+--------------------+\n",
      "|      ISBN|          Book-Title|  Book-Author|           Publisher|avg_predicted_rating|\n",
      "+----------+--------------------+-------------+--------------------+--------------------+\n",
      "|1570362084|The Best of Larry...|   Larry King|          Turner Pub|   8.063075065612793|\n",
      "|0759615365|Life in a Rapidly...|  Pauline Tai|         Authorhouse|   8.000000953674316|\n",
      "|0671001701|              Legend|Jude Deveraux|              Pocket|   8.000000953674316|\n",
      "|8804418338|                NULL|         NULL|                NULL|   8.000000953674316|\n",
      "|9723704552|O medo (Documenta...|     Al Berto|AssÃ­rio &amp; Alvim|   8.000000953674316|\n",
      "|0840734530|The Oneprince (Th...|    Bill Hand|   Thomas Nelson Inc|   8.000000953674316|\n",
      "|0812511816|The Eye of the Wo...|Robert Jordan|         Tor Fantasy|   8.000000953674316|\n",
      "|0500280673|      Celtic Borders| Aidan Meehan| Thames &amp; Hudson|   8.000000953674316|\n",
      "|0883680661|What You Say Is W...|  Don Gossett|      Whitaker House|   8.000000953674316|\n",
      "|8674460232|                NULL|         NULL|                NULL|   8.000000953674316|\n",
      "+----------+--------------------+-------------+--------------------+--------------------+\n",
      "\n"
     ]
    }
   ],
   "source": [
    "from pyspark.sql.window import Window\n",
    "\n",
    "test_data = indexed_ratings.join(data_with_features, on=\"USER-ID\", how=\"inner\") \n",
    "\n",
    "cluster_predictions = clustering_model.transform(test_data)\n",
    "\n",
    "cluster_predictions0 = predictions.filter(col('cluster') == 0)\n",
    "cluster_predictions1 = predictions.filter(col('cluster') == 1)\n",
    "cluster_predictions2 = predictions.filter(col('cluster') == 2)\n",
    "\n",
    "cluster_0_table = model0.transform(cluster_predictions0).groupBy(\"ISBN\").agg(F.avg(\"prediction\").alias(\"avg_predicted_rating\"))\n",
    "cluster_1_table = model1.transform(cluster_predictions1).groupBy(\"ISBN\").agg(F.avg(\"prediction\").alias(\"avg_predicted_rating\"))\n",
    "cluster_2_table = model2.transform(cluster_predictions2).groupBy(\"ISBN\").agg(F.avg(\"prediction\").alias(\"avg_predicted_rating\"))\n",
    "\n",
    "print(\"Top 10 for cluster 0\")\n",
    "cluster_0_table.join(books_spark, on=\"ISBN\", how=\"left\").select(\"ISBN\", \"Book-Title\", \"Book-Author\", \"Publisher\", \"avg_predicted_rating\").orderBy(col(\"avg_predicted_rating\").desc()).limit(10).show()\n",
    "\n",
    "print(\"Top 10 for cluster 1\")\n",
    "cluster_1_table.join(books_spark, on=\"ISBN\", how=\"left\").select(\"ISBN\", \"Book-Title\", \"Book-Author\", \"Publisher\", \"avg_predicted_rating\").orderBy(col(\"avg_predicted_rating\").desc()).limit(10).show()\n",
    "\n",
    "print(\"Top 10 for cluster 2\")\n",
    "cluster_2_table.join(books_spark, on=\"ISBN\", how=\"left\").select(\"ISBN\", \"Book-Title\", \"Book-Author\", \"Publisher\", \"avg_predicted_rating\").orderBy(col(\"avg_predicted_rating\").desc()).limit(10).show()\n",
    "\n"
   ]
  },
  {
   "cell_type": "code",
   "execution_count": null,
   "metadata": {},
   "outputs": [],
   "source": []
  }
 ],
 "metadata": {
  "application/vnd.databricks.v1+notebook": {
   "dashboards": [],
   "environmentMetadata": null,
   "language": "python",
   "notebookMetadata": {
    "pythonIndentUnit": 4
   },
   "notebookName": "Practice 3",
   "widgets": {}
  },
  "kernelspec": {
   "display_name": "Python 3",
   "language": "python",
   "name": "python3"
  },
  "language_info": {
   "codemirror_mode": {
    "name": "ipython",
    "version": 3
   },
   "file_extension": ".py",
   "mimetype": "text/x-python",
   "name": "python",
   "nbconvert_exporter": "python",
   "pygments_lexer": "ipython3",
   "version": "3.11.4"
  }
 },
 "nbformat": 4,
 "nbformat_minor": 0
}
