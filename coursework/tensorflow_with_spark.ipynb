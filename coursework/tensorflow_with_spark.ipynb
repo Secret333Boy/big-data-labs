{
 "cells": [
  {
   "cell_type": "code",
   "execution_count": 1,
   "metadata": {},
   "outputs": [
    {
     "name": "stderr",
     "output_type": "stream",
     "text": [
      "2024-12-23 01:24:02.479093: I tensorflow/core/util/port.cc:153] oneDNN custom operations are on. You may see slightly different numerical results due to floating-point round-off errors from different computation orders. To turn them off, set the environment variable `TF_ENABLE_ONEDNN_OPTS=0`.\n",
      "2024-12-23 01:24:02.492470: E external/local_xla/xla/stream_executor/cuda/cuda_fft.cc:477] Unable to register cuFFT factory: Attempting to register factory for plugin cuFFT when one has already been registered\n",
      "WARNING: All log messages before absl::InitializeLog() is called are written to STDERR\n",
      "E0000 00:00:1734909842.506667   10898 cuda_dnn.cc:8310] Unable to register cuDNN factory: Attempting to register factory for plugin cuDNN when one has already been registered\n",
      "E0000 00:00:1734909842.510319   10898 cuda_blas.cc:1418] Unable to register cuBLAS factory: Attempting to register factory for plugin cuBLAS when one has already been registered\n",
      "2024-12-23 01:24:02.525180: I tensorflow/core/platform/cpu_feature_guard.cc:210] This TensorFlow binary is optimized to use available CPU instructions in performance-critical operations.\n",
      "To enable the following instructions: AVX2 AVX_VNNI FMA, in other operations, rebuild TensorFlow with the appropriate compiler flags.\n"
     ]
    }
   ],
   "source": [
    "\n",
    "from pyspark.sql.types import ArrayType, FloatType, IntegerType, StringType, StructType, StructField\n",
    "from pyspark.ml.feature import SQLTransformer\n",
    "from pyspark.sql import SparkSession\n",
    "from tensorflow.keras.models import load_model\n",
    "from pyspark.ml.linalg import Vectors, VectorUDT\n",
    "import numpy as np\n",
    "from PIL import Image\n",
    "import os\n",
    "import cloudpickle"
   ]
  },
  {
   "cell_type": "code",
   "execution_count": 2,
   "metadata": {},
   "outputs": [
    {
     "name": "stderr",
     "output_type": "stream",
     "text": [
      "your 131072x1 screen size is bogus. expect trouble\n",
      "24/12/23 01:24:05 WARN Utils: Your hostname, DESKTOP-SMHNFU4 resolves to a loopback address: 127.0.1.1; using 10.255.255.254 instead (on interface lo)\n",
      "24/12/23 01:24:05 WARN Utils: Set SPARK_LOCAL_IP if you need to bind to another address\n",
      "Setting default log level to \"WARN\".\n",
      "To adjust logging level use sc.setLogLevel(newLevel). For SparkR, use setLogLevel(newLevel).\n",
      "24/12/23 01:24:05 WARN NativeCodeLoader: Unable to load native-hadoop library for your platform... using builtin-java classes where applicable\n",
      "I0000 00:00:1734909846.506946   10898 gpu_device.cc:2022] Created device /job:localhost/replica:0/task:0/device:GPU:0 with 7537 MB memory:  -> device: 0, name: NVIDIA GeForce RTX 3080, pci bus id: 0000:01:00.0, compute capability: 8.6\n"
     ]
    },
    {
     "ename": "AttributeError",
     "evalue": "'DataStreamWriter' object has no attribute 'select'",
     "output_type": "error",
     "traceback": [
      "\u001b[0;31m---------------------------------------------------------------------------\u001b[0m",
      "\u001b[0;31mAttributeError\u001b[0m                            Traceback (most recent call last)",
      "Cell \u001b[0;32mIn[2], line 60\u001b[0m\n\u001b[1;32m     57\u001b[0m prediction_transformer \u001b[38;5;241m=\u001b[39m SQLTransformer(statement\u001b[38;5;241m=\u001b[39m\u001b[38;5;124m'\u001b[39m\u001b[38;5;124mSELECT *, predict_image(features) prediction FROM __THIS__\u001b[39m\u001b[38;5;124m'\u001b[39m)\n\u001b[1;32m     58\u001b[0m prediction_stream \u001b[38;5;241m=\u001b[39m prediction_transformer\u001b[38;5;241m.\u001b[39mtransform(processed_stream)\u001b[38;5;241m.\u001b[39mselect(\u001b[38;5;124m\"\u001b[39m\u001b[38;5;124mPath\u001b[39m\u001b[38;5;124m\"\u001b[39m, \u001b[38;5;124m\"\u001b[39m\u001b[38;5;124mClassId\u001b[39m\u001b[38;5;124m\"\u001b[39m, \u001b[38;5;124m\"\u001b[39m\u001b[38;5;124mprediction\u001b[39m\u001b[38;5;124m\"\u001b[39m)\n\u001b[0;32m---> 60\u001b[0m output_stream \u001b[38;5;241m=\u001b[39m \u001b[43mprediction_stream\u001b[49m\u001b[38;5;241;43m.\u001b[39;49m\u001b[43mwriteStream\u001b[49m\u001b[38;5;241;43m.\u001b[39;49m\u001b[43mselect\u001b[49m(\u001b[38;5;124m\"\u001b[39m\u001b[38;5;124mprediction\u001b[39m\u001b[38;5;124m\"\u001b[39m)\u001b[38;5;241m.\u001b[39moutputMode(\u001b[38;5;124m\"\u001b[39m\u001b[38;5;124mappend\u001b[39m\u001b[38;5;124m\"\u001b[39m)\u001b[38;5;241m.\u001b[39mformat(\u001b[38;5;124m\"\u001b[39m\u001b[38;5;124mparquet\u001b[39m\u001b[38;5;124m\"\u001b[39m)\u001b[38;5;241m.\u001b[39moption(\u001b[38;5;124m\"\u001b[39m\u001b[38;5;124mpath\u001b[39m\u001b[38;5;124m\"\u001b[39m, \u001b[38;5;124m\"\u001b[39m\u001b[38;5;124moutput\u001b[39m\u001b[38;5;124m\"\u001b[39m)\u001b[38;5;241m.\u001b[39mstart()\n\u001b[1;32m     61\u001b[0m output_stream\u001b[38;5;241m.\u001b[39mawaitTermination()\n",
      "\u001b[0;31mAttributeError\u001b[0m: 'DataStreamWriter' object has no attribute 'select'"
     ]
    }
   ],
   "source": [
    "spark: SparkSession = SparkSession.builder.appName(\"Traffic Signs Classification Streaming\") \\\n",
    "    .master(\"local[*]\") \\\n",
    "    .config(\"spark.rapids.sql.enabled\", \"true\") \\\n",
    "    .config(\"spark.executor.memory\", \"12g\") \\\n",
    "    .config(\"spark.driver.memory\", \"12g\") \\\n",
    "    .config(\"spark.python.worker.memory\", \"12g\") \\\n",
    "    .config(\"spark.executor.pyspark.memory\", \"12g\") \\\n",
    "    .config(\"spark.rpc.message.maxSize\", \"128\") \\\n",
    "    .config(\"spark.executor.memoryOverhead\", \"2g\") \\\n",
    "    .config(\"spark.sql.streaming.checkpointLocation\", \"./tmp\") \\\n",
    "    .getOrCreate()\n",
    "\n",
    "model = load_model('best_model.keras')\n",
    "serialized_model = cloudpickle.dumps(model)\n",
    "broadcast_model = spark.sparkContext.broadcast(serialized_model)\n",
    "\n",
    "dataset_path = \"./dataset\"\n",
    "def process_image(img_path, roi_x1, roi_y1, roi_x2, roi_y2):\n",
    "    try:\n",
    "        with Image.open(os.path.join(dataset_path, img_path)) as img:\n",
    "            cropped_img = img.crop((roi_x1, roi_y1, roi_x2, roi_y2))\n",
    "            resized_img = np.array(cropped_img.resize((32, 32), resample=Image.Resampling.LANCZOS))\n",
    "            return resized_img / 255.0\n",
    "    except Exception as e:\n",
    "        print(f\"Error processing image {img_path}: {e}\")\n",
    "        return [0.0] * (32 * 32 * 3)\n",
    "\n",
    "def predict_image(features):\n",
    "    features = np.expand_dims(features, axis=0)\n",
    "    predictions = cloudpickle.loads(broadcast_model.value).predict(features, verbose=0)\n",
    "    predicted_class = np.argmax(predictions, axis=1)\n",
    "    return predicted_class[0]\n",
    "\n",
    "def image_to_vector(img_features):\n",
    "    return Vectors.dense(img_features)\n",
    "\n",
    "spark.udf.register(\"process_image\", process_image, ArrayType(FloatType()))\n",
    "spark.udf.register(\"predict_image\", predict_image, IntegerType())\n",
    "spark.udf.register(\"image_to_vector\", image_to_vector, VectorUDT())\n",
    "\n",
    "schema = StructType([\n",
    "    StructField(\"Width\", IntegerType(), True),\n",
    "    StructField(\"Height\", IntegerType(), True),\n",
    "    StructField(\"Roi.X1\", IntegerType(), True),\n",
    "    StructField(\"Roi.Y1\", IntegerType(), True),\n",
    "    StructField(\"Roi.X2\", IntegerType(), True),\n",
    "    StructField(\"Roi.Y2\", IntegerType(), True),\n",
    "    StructField(\"ClassId\", IntegerType(), True),\n",
    "    StructField(\"Path\", StringType(), True)\n",
    "])\n",
    "\n",
    "input_stream = spark.readStream.option(\"header\", \"true\").schema(schema).csv(os.path.join(dataset_path, \"streaming\"))\n",
    "\n",
    "image_transformer = SQLTransformer(statement='SELECT *, process_image(Path, `Roi.X1`, `Roi.Y1`, `Roi.X2`, `Roi.Y2`) features FROM __THIS__')\n",
    "processed_stream = image_transformer.transform(input_stream)\n",
    "\n",
    "prediction_transformer = SQLTransformer(statement='SELECT *, predict_image(features) prediction FROM __THIS__')\n",
    "prediction_stream = prediction_transformer.transform(processed_stream).select(\"Path\", \"ClassId\", \"prediction\")\n",
    "\n",
    "output_stream = prediction_stream.writeStream.select(\"prediction\").outputMode(\"append\").format(\"parquet\").option(\"path\", \"output\").start()\n",
    "output_stream.awaitTermination()\n"
   ]
  }
 ],
 "metadata": {
  "kernelspec": {
   "display_name": "Python 3",
   "language": "python",
   "name": "python3"
  },
  "language_info": {
   "codemirror_mode": {
    "name": "ipython",
    "version": 3
   },
   "file_extension": ".py",
   "mimetype": "text/x-python",
   "name": "python",
   "nbconvert_exporter": "python",
   "pygments_lexer": "ipython3",
   "version": "3.10.12"
  }
 },
 "nbformat": 4,
 "nbformat_minor": 2
}
